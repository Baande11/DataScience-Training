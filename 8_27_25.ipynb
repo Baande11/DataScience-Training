{
 "cells": [
  {
   "cell_type": "markdown",
   "id": "b13c44ac-a2c6-4758-8e47-b4e3942a7738",
   "metadata": {},
   "source": [
    "# Training"
   ]
  },
  {
   "cell_type": "markdown",
   "id": "dc66985a-27fc-4a9f-bb2a-30382db1b970",
   "metadata": {},
   "source": [
    "**First Class** 8/27/25"
   ]
  },
  {
   "cell_type": "code",
   "execution_count": 2,
   "id": "6b69d8c7-8fb8-4908-b580-d226279a420e",
   "metadata": {},
   "outputs": [],
   "source": [
    "# x = 'world'\n",
    "# print (\"Hello, \" + x[0:3])"
   ]
  },
  {
   "cell_type": "markdown",
   "id": "9f8486a7-fda5-41d4-bdee-f91d1928866d",
   "metadata": {},
   "source": [
    "# Variable"
   ]
  },
  {
   "cell_type": "code",
   "execution_count": 2,
   "id": "6f65f377-8df0-41b2-a14d-0088ad7a7065",
   "metadata": {},
   "outputs": [],
   "source": [
    "a = 3"
   ]
  },
  {
   "cell_type": "code",
   "execution_count": 3,
   "id": "01ac9786-c831-4898-8711-db1acb3b4d5d",
   "metadata": {},
   "outputs": [
    {
     "data": {
      "text/plain": [
       "int"
      ]
     },
     "execution_count": 3,
     "metadata": {},
     "output_type": "execute_result"
    }
   ],
   "source": [
    "type(a)"
   ]
  },
  {
   "cell_type": "code",
   "execution_count": 4,
   "id": "5bdc2263-0b09-4125-9d21-3ae4a440d69e",
   "metadata": {},
   "outputs": [
    {
     "name": "stdout",
     "output_type": "stream",
     "text": [
      "Multiplication: 28.0\n",
      "Division: 2.2857142857142856\n",
      "Subtraction: 4.5\n",
      "Addition: 11.5\n"
     ]
    }
   ],
   "source": [
    "first_variable = 8\n",
    "second_variable = 3.5\n",
    "print(\"Multiplication: \" + str(first_variable*second_variable))\n",
    "print(\"Division: \" + str(first_variable/second_variable))\n",
    "print(\"Subtraction: \" + str(first_variable-second_variable))\n",
    "print(\"Addition: \" + str(first_variable+second_variable))"
   ]
  },
  {
   "cell_type": "code",
   "execution_count": 5,
   "id": "c6797d26-fa38-44c7-8a12-989d60b331c2",
   "metadata": {},
   "outputs": [
    {
     "ename": "KeyboardInterrupt",
     "evalue": "Interrupted by user",
     "output_type": "error",
     "traceback": [
      "\u001b[31m---------------------------------------------------------------------------\u001b[39m",
      "\u001b[31mKeyboardInterrupt\u001b[39m                         Traceback (most recent call last)",
      "\u001b[36mCell\u001b[39m\u001b[36m \u001b[39m\u001b[32mIn[5]\u001b[39m\u001b[32m, line 1\u001b[39m\n\u001b[32m----> \u001b[39m\u001b[32m1\u001b[39m name = \u001b[38;5;28;43minput\u001b[39;49m\u001b[43m(\u001b[49m\u001b[33;43m\"\u001b[39;49m\u001b[33;43mEnter your name: \u001b[39;49m\u001b[33;43m\"\u001b[39;49m\u001b[43m)\u001b[49m\n",
      "\u001b[36mFile \u001b[39m\u001b[32m~\\AppData\\Local\\Packages\\PythonSoftwareFoundation.Python.3.13_qbz5n2kfra8p0\\LocalCache\\local-packages\\Python313\\site-packages\\ipykernel\\kernelbase.py:1275\u001b[39m, in \u001b[36mKernel.raw_input\u001b[39m\u001b[34m(self, prompt)\u001b[39m\n\u001b[32m   1273\u001b[39m     msg = \u001b[33m\"\u001b[39m\u001b[33mraw_input was called, but this frontend does not support input requests.\u001b[39m\u001b[33m\"\u001b[39m\n\u001b[32m   1274\u001b[39m     \u001b[38;5;28;01mraise\u001b[39;00m StdinNotImplementedError(msg)\n\u001b[32m-> \u001b[39m\u001b[32m1275\u001b[39m \u001b[38;5;28;01mreturn\u001b[39;00m \u001b[38;5;28;43mself\u001b[39;49m\u001b[43m.\u001b[49m\u001b[43m_input_request\u001b[49m\u001b[43m(\u001b[49m\n\u001b[32m   1276\u001b[39m \u001b[43m    \u001b[49m\u001b[38;5;28;43mstr\u001b[39;49m\u001b[43m(\u001b[49m\u001b[43mprompt\u001b[49m\u001b[43m)\u001b[49m\u001b[43m,\u001b[49m\n\u001b[32m   1277\u001b[39m \u001b[43m    \u001b[49m\u001b[38;5;28;43mself\u001b[39;49m\u001b[43m.\u001b[49m\u001b[43m_parent_ident\u001b[49m\u001b[43m[\u001b[49m\u001b[33;43m\"\u001b[39;49m\u001b[33;43mshell\u001b[39;49m\u001b[33;43m\"\u001b[39;49m\u001b[43m]\u001b[49m\u001b[43m,\u001b[49m\n\u001b[32m   1278\u001b[39m \u001b[43m    \u001b[49m\u001b[38;5;28;43mself\u001b[39;49m\u001b[43m.\u001b[49m\u001b[43mget_parent\u001b[49m\u001b[43m(\u001b[49m\u001b[33;43m\"\u001b[39;49m\u001b[33;43mshell\u001b[39;49m\u001b[33;43m\"\u001b[39;49m\u001b[43m)\u001b[49m\u001b[43m,\u001b[49m\n\u001b[32m   1279\u001b[39m \u001b[43m    \u001b[49m\u001b[43mpassword\u001b[49m\u001b[43m=\u001b[49m\u001b[38;5;28;43;01mFalse\u001b[39;49;00m\u001b[43m,\u001b[49m\n\u001b[32m   1280\u001b[39m \u001b[43m\u001b[49m\u001b[43m)\u001b[49m\n",
      "\u001b[36mFile \u001b[39m\u001b[32m~\\AppData\\Local\\Packages\\PythonSoftwareFoundation.Python.3.13_qbz5n2kfra8p0\\LocalCache\\local-packages\\Python313\\site-packages\\ipykernel\\kernelbase.py:1320\u001b[39m, in \u001b[36mKernel._input_request\u001b[39m\u001b[34m(self, prompt, ident, parent, password)\u001b[39m\n\u001b[32m   1317\u001b[39m \u001b[38;5;28;01mexcept\u001b[39;00m \u001b[38;5;167;01mKeyboardInterrupt\u001b[39;00m:\n\u001b[32m   1318\u001b[39m     \u001b[38;5;66;03m# re-raise KeyboardInterrupt, to truncate traceback\u001b[39;00m\n\u001b[32m   1319\u001b[39m     msg = \u001b[33m\"\u001b[39m\u001b[33mInterrupted by user\u001b[39m\u001b[33m\"\u001b[39m\n\u001b[32m-> \u001b[39m\u001b[32m1320\u001b[39m     \u001b[38;5;28;01mraise\u001b[39;00m \u001b[38;5;167;01mKeyboardInterrupt\u001b[39;00m(msg) \u001b[38;5;28;01mfrom\u001b[39;00m\u001b[38;5;250m \u001b[39m\u001b[38;5;28;01mNone\u001b[39;00m\n\u001b[32m   1321\u001b[39m \u001b[38;5;28;01mexcept\u001b[39;00m \u001b[38;5;167;01mException\u001b[39;00m:\n\u001b[32m   1322\u001b[39m     \u001b[38;5;28mself\u001b[39m.log.warning(\u001b[33m\"\u001b[39m\u001b[33mInvalid Message:\u001b[39m\u001b[33m\"\u001b[39m, exc_info=\u001b[38;5;28;01mTrue\u001b[39;00m)\n",
      "\u001b[31mKeyboardInterrupt\u001b[39m: Interrupted by user"
     ]
    }
   ],
   "source": [
    "name = input(\"Enter your name: \")"
   ]
  },
  {
   "cell_type": "code",
   "execution_count": null,
   "id": "4cf34e9f-ab4b-4e97-9108-8a274da6f9cf",
   "metadata": {},
   "outputs": [],
   "source": [
    "name"
   ]
  },
  {
   "cell_type": "code",
   "execution_count": null,
   "id": "046e993d-bcb9-4331-a45d-1c2e660b23dc",
   "metadata": {},
   "outputs": [],
   "source": [
    "number = int(input(\"Enter a whole number: \"))"
   ]
  },
  {
   "cell_type": "code",
   "execution_count": null,
   "id": "44e96f34-be16-4a65-9ed6-b4f0038efe94",
   "metadata": {},
   "outputs": [],
   "source": [
    "number"
   ]
  },
  {
   "cell_type": "code",
   "execution_count": null,
   "id": "fcff8727-e46e-4b99-8732-0366c82f4aa2",
   "metadata": {},
   "outputs": [],
   "source": [
    "a = 8\n",
    "b = 10"
   ]
  },
  {
   "cell_type": "code",
   "execution_count": null,
   "id": "09b82e17-3706-4a41-90b1-9c9576c34a85",
   "metadata": {},
   "outputs": [],
   "source": [
    "if a > 10:\n",
    "    print(\"a is larger\")\n",
    "elif a < b:\n",
    "    print(\"b is larger\")\n",
    "else:\n",
    "    print(\"a is the same as b\")"
   ]
  },
  {
   "attachments": {},
   "cell_type": "markdown",
   "id": "bf0aa94e-219f-4fa0-9496-a05fb421fba6",
   "metadata": {},
   "source": [
    "input from the user two variable one for opperation using If create calculate"
   ]
  },
  {
   "cell_type": "code",
   "execution_count": null,
   "id": "3b99376d-6a3b-4f77-937e-b4bdeb582ce7",
   "metadata": {},
   "outputs": [],
   "source": [
    "x = int(float(input(\"enter first whole number: \")))\n",
    "y = int(float(input(\"enter second whole number: \")))\n",
    "op = input(\"enter the operator (+, -, *, /) symbol: \")"
   ]
  },
  {
   "cell_type": "code",
   "execution_count": null,
   "id": "807892bf-3c59-489f-9d25-a70918184a57",
   "metadata": {},
   "outputs": [],
   "source": [
    "if(op == '+'):\n",
    "    print(\"Addition: \" + str(x+y))\n",
    "elif(op == '*'):\n",
    "    print(\"Multiplication: \" + str(x*y))\n",
    "elif(op == \"/\"):\n",
    "    print(\"Division: \" + str(x/y))\n",
    "elif(op == \"-\"):\n",
    "    print(\"Subtraction \" + str(x-y))\n",
    "else:\n",
    "    print(\"ERROR: invalid operator symbol\")"
   ]
  },
  {
   "cell_type": "code",
   "execution_count": null,
   "id": "32346fa9-4cb5-474b-90cc-fa8c6e58fd70",
   "metadata": {},
   "outputs": [],
   "source": [
    "for i in range(0,-16,-3):\n",
    "    print(i)"
   ]
  },
  {
   "cell_type": "code",
   "execution_count": null,
   "id": "494f8ae2-f028-44ab-9aa1-cabe46053ca6",
   "metadata": {},
   "outputs": [],
   "source": [
    "i = 0\n",
    "while i < 5:\n",
    "    print(i)\n",
    "    i += 1"
   ]
  },
  {
   "cell_type": "markdown",
   "id": "41563f39-a75e-4c44-8e12-cffdac1a05c7",
   "metadata": {},
   "source": [
    "<br>**input from the user two variable one for opperation using If create calculate if user want to continue then again take input and give answer**<br>"
   ]
  },
  {
   "cell_type": "code",
   "execution_count": null,
   "id": "7561c6f2-a23b-4c5b-99c6-510e344f593b",
   "metadata": {},
   "outputs": [],
   "source": [
    "cont = 'y'\n",
    "while True:\n",
    "    if(cont == 'y'):\n",
    "        x = int(float(input(\"enter first whole number: \")))\n",
    "        y = int(float(input(\"enter second whole number: \")))\n",
    "        op = input(\"enter the operator (+, -, *, /) symbol: \")\n",
    "\n",
    "        if(op == '+'):\n",
    "            print(\"Addition: \" + str(x+y))\n",
    "        elif(op == '*'):\n",
    "            print(\"Multiplication: \" + str(x*y))\n",
    "        elif(op == \"/\"):\n",
    "            print(\"Division: \" + str(x/y))\n",
    "        elif(op == \"-\"):\n",
    "            print(\"Subtraction \" + str(x-y))\n",
    "        else:\n",
    "            print(\"ERROR: invalid operator symbol\")\n",
    "        cont = input(\"Continue? y/n\")\n",
    "    elif(cont != \"n\"):\n",
    "        print(\"ERROR: invalid response, please type 'y' or 'n'\")\n",
    "        cont = input(\"Continue? y/n\")\n",
    "    else:\n",
    "        break"
   ]
  },
  {
   "cell_type": "code",
   "execution_count": 11,
   "id": "9b2c1af8-9c7d-418e-8ff6-742eda0e20fe",
   "metadata": {},
   "outputs": [],
   "source": [
    "def calculate(x, y, op):\n",
    "        if(op == '+'):\n",
    "            print(\"Addition: \" + str(x+y))\n",
    "        elif(op == '*'):\n",
    "            print(\"Multiplication: \" + str(x*y))\n",
    "        elif(op == \"/\"):\n",
    "            print(\"Division: \" + str(x/y))\n",
    "        elif(op == \"-\"):\n",
    "            print(\"Subtraction \" + str(x-y))\n",
    "        else:\n",
    "            print(\"ERROR: invalid operator symbol\")\n",
    "\n",
    "def calculator():\n",
    "        x = int(float(input(\"enter first whole number: \")))\n",
    "        y = int(float(input(\"enter second whole number: \")))\n",
    "        op = input(\"enter the operator (+, -, *, /) symbol: \")\n",
    "        \n",
    "        calculate(x, y, op)"
   ]
  },
  {
   "cell_type": "code",
   "execution_count": 19,
   "id": "a08901ae-a9f2-494e-8a15-63590ce200f3",
   "metadata": {},
   "outputs": [],
   "source": [
    "def logicate(x, y, op):\n",
    "        if(op == 'AND'):\n",
    "            print(\"AND: \" + str(x and y))\n",
    "        elif(op == 'NOT'):\n",
    "            print(\"NOT: \" + str(not x))\n",
    "        elif(op == \"OR\"):\n",
    "            print(\"OR: \" + str(x or y))\n",
    "        else:\n",
    "            print(\"ERROR: invalid operator symbol\")\n",
    "def logicator():\n",
    "        op = input(\"enter the operator (NOT, AND, OR) : \").upper()\n",
    "        while True:\n",
    "            if(op == 'AND' or op == 'OR' or op == \"NOT\"):\n",
    "                break\n",
    "            else:\n",
    "               op =  input(\"Please enter a valid logical operator ('NOT, 'AND', 'OR'): \").upper()\n",
    "        x = input(\"enter a boolean value (TRUE, FALSE): \").upper()\n",
    "        while True:\n",
    "            if(x == 'TRUE'):\n",
    "                x = True\n",
    "                break\n",
    "            elif(x == 'FALSE'):\n",
    "                x = False\n",
    "                break\n",
    "            else:\n",
    "               x =  input(\"Please enter a valid logical operator (FALSE', 'TRUE'): \").upper()\n",
    "        if(op != \"NOT\"):\n",
    "            y = input(\"enter a boolean value (TRUE, FALSE): \").upper()\n",
    "            while True:\n",
    "                if(y == 'TRUE'):\n",
    "                    y = True\n",
    "                    break\n",
    "                elif(y == 'FALSE'):\n",
    "                    y = False\n",
    "                    break\n",
    "                else:\n",
    "                   y =  input(\"Please enter a valid logical operator (FALSE', 'TRUE'): \").upper()\n",
    "        else:\n",
    "            y = 'false'\n",
    "        logicate(x,y,op)\n",
    "            \n"
   ]
  },
  {
   "cell_type": "markdown",
   "id": "b4d72fc4-8c32-44c2-8c6d-dc2b8ae5e0e8",
   "metadata": {},
   "source": [
    "<br>**Write a Python program that first asks the user to choose Mathematical or Logical operations. If Math, perform Add/Subtract/Multiply/Divide on two numbers; if Logical, perform AND/OR/NOT on boolean inputs. Use if-else, while loop, and functions to solve it.**<br>"
   ]
  },
  {
   "cell_type": "code",
   "execution_count": 17,
   "id": "92121b37-7895-4c05-89b8-817edda2d5da",
   "metadata": {},
   "outputs": [],
   "source": [
    "def calculate_selection():\n",
    "    mode = input(\"Select mode of operation (Math or Logic): \").upper()\n",
    "    if(mode == \"MATH\"):\n",
    "        calculator()\n",
    "    elif(mode == \"LOGIC\"):\n",
    "        logicator()\n",
    "    else:\n",
    "        mode = input(\"Please select either 'MATH' or 'Logic': \").upper()"
   ]
  },
  {
   "cell_type": "code",
   "execution_count": 21,
   "id": "c6be9197-70e7-4bbf-ae3f-654fe287fac1",
   "metadata": {},
   "outputs": [
    {
     "name": "stdin",
     "output_type": "stream",
     "text": [
      "Select mode of operation (Math or Logic):  math\n",
      "enter first whole number:  25\n",
      "enter second whole number:  80\n",
      "enter the operator (+, -, *, /) symbol:  /\n"
     ]
    },
    {
     "name": "stdout",
     "output_type": "stream",
     "text": [
      "Division: 0.3125\n"
     ]
    },
    {
     "name": "stdin",
     "output_type": "stream",
     "text": [
      "Continue? y/n Y\n",
      "Select mode of operation (Math or Logic):  logic\n",
      "enter the operator (NOT, AND, OR) :  not\n",
      "enter a boolean value (TRUE, FALSE):  true\n"
     ]
    },
    {
     "name": "stdout",
     "output_type": "stream",
     "text": [
      "NOT: False\n"
     ]
    },
    {
     "name": "stdin",
     "output_type": "stream",
     "text": [
      "Continue? y/n n\n"
     ]
    }
   ],
   "source": [
    "cont = 'y'\n",
    "while True:\n",
    "    if(cont == 'y'):\n",
    "        calculate_selection()\n",
    "        cont = input(\"Continue? y/n\").lower()\n",
    "    elif(cont != 'n'):\n",
    "        print(\"ERROR: invalid response, please type 'y' or 'n'\")\n",
    "        cont = input(\"Continue? y/n\").lower()\n",
    "    else:\n",
    "        break"
   ]
  },
  {
   "cell_type": "code",
   "execution_count": null,
   "id": "b291f404-425d-4a90-84c1-bd68d1d419d8",
   "metadata": {},
   "outputs": [],
   "source": []
  }
 ],
 "metadata": {
  "kernelspec": {
   "display_name": "Python 3 (ipykernel)",
   "language": "python",
   "name": "python3"
  },
  "language_info": {
   "codemirror_mode": {
    "name": "ipython",
    "version": 3
   },
   "file_extension": ".py",
   "mimetype": "text/x-python",
   "name": "python",
   "nbconvert_exporter": "python",
   "pygments_lexer": "ipython3",
   "version": "3.13.7"
  }
 },
 "nbformat": 4,
 "nbformat_minor": 5
}
