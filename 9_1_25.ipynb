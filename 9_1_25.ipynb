{
 "cells": [
  {
   "cell_type": "markdown",
   "id": "02c868f3",
   "metadata": {},
   "source": [
    "# Assignment"
   ]
  },
  {
   "cell_type": "markdown",
   "id": "dc9fad11",
   "metadata": {},
   "source": [
    "1. Read regression_training.csv and extract Hours_Study (X) and Marks (Y).<br>\n",
    "2. Calculate slope m and intercept b using the linear regression formulas.<br>\n",
    "3. Predict Marks for the regression_test.csv values of Hours_Study.<br>\n",
    "4. Print the regression equation and predicted results.<br>"
   ]
  },
  {
   "cell_type": "code",
   "execution_count": 105,
   "id": "74029d74",
   "metadata": {},
   "outputs": [],
   "source": [
    "import pandas as pd\n",
    "import numpy as np"
   ]
  },
  {
   "cell_type": "code",
   "execution_count": 121,
   "id": "6d04a1b3",
   "metadata": {},
   "outputs": [
    {
     "data": {
      "text/html": [
       "<div>\n",
       "<style scoped>\n",
       "    .dataframe tbody tr th:only-of-type {\n",
       "        vertical-align: middle;\n",
       "    }\n",
       "\n",
       "    .dataframe tbody tr th {\n",
       "        vertical-align: top;\n",
       "    }\n",
       "\n",
       "    .dataframe thead th {\n",
       "        text-align: right;\n",
       "    }\n",
       "</style>\n",
       "<table border=\"1\" class=\"dataframe\">\n",
       "  <thead>\n",
       "    <tr style=\"text-align: right;\">\n",
       "      <th></th>\n",
       "      <th>Hours_Study</th>\n",
       "      <th>Hours_Sleep</th>\n",
       "      <th>Extra_Classes</th>\n",
       "      <th>Marks</th>\n",
       "    </tr>\n",
       "  </thead>\n",
       "  <tbody>\n",
       "    <tr>\n",
       "      <th>0</th>\n",
       "      <td>1</td>\n",
       "      <td>6</td>\n",
       "      <td>0</td>\n",
       "      <td>32</td>\n",
       "    </tr>\n",
       "    <tr>\n",
       "      <th>1</th>\n",
       "      <td>2</td>\n",
       "      <td>5</td>\n",
       "      <td>0</td>\n",
       "      <td>35</td>\n",
       "    </tr>\n",
       "    <tr>\n",
       "      <th>2</th>\n",
       "      <td>2</td>\n",
       "      <td>6</td>\n",
       "      <td>1</td>\n",
       "      <td>42</td>\n",
       "    </tr>\n",
       "    <tr>\n",
       "      <th>3</th>\n",
       "      <td>3</td>\n",
       "      <td>5</td>\n",
       "      <td>0</td>\n",
       "      <td>40</td>\n",
       "    </tr>\n",
       "    <tr>\n",
       "      <th>4</th>\n",
       "      <td>3</td>\n",
       "      <td>7</td>\n",
       "      <td>1</td>\n",
       "      <td>48</td>\n",
       "    </tr>\n",
       "  </tbody>\n",
       "</table>\n",
       "</div>"
      ],
      "text/plain": [
       "   Hours_Study  Hours_Sleep  Extra_Classes  Marks\n",
       "0            1            6              0     32\n",
       "1            2            5              0     35\n",
       "2            2            6              1     42\n",
       "3            3            5              0     40\n",
       "4            3            7              1     48"
      ]
     },
     "execution_count": 121,
     "metadata": {},
     "output_type": "execute_result"
    }
   ],
   "source": [
    "df = pd.read_csv(\"regression_training.csv\")\n",
    "df.head()"
   ]
  },
  {
   "cell_type": "code",
   "execution_count": 122,
   "id": "f11368e8",
   "metadata": {},
   "outputs": [
    {
     "data": {
      "text/plain": [
       "array([[ 1,  6,  0,  1],\n",
       "       [ 2,  5,  0,  1],\n",
       "       [ 2,  6,  1,  1],\n",
       "       [ 3,  5,  0,  1],\n",
       "       [ 3,  7,  1,  1],\n",
       "       [ 4,  6,  0,  1],\n",
       "       [ 4,  7,  1,  1],\n",
       "       [ 5,  5,  0,  1],\n",
       "       [ 5,  6,  1,  1],\n",
       "       [ 6,  7,  0,  1],\n",
       "       [ 6,  6,  1,  1],\n",
       "       [ 7,  5,  0,  1],\n",
       "       [ 7,  6,  1,  1],\n",
       "       [ 8,  7,  0,  1],\n",
       "       [ 8,  6,  1,  1],\n",
       "       [ 9,  5,  0,  1],\n",
       "       [ 9,  7,  1,  1],\n",
       "       [10,  6,  0,  1],\n",
       "       [10,  7,  1,  1],\n",
       "       [11,  6,  1,  1]])"
      ]
     },
     "execution_count": 122,
     "metadata": {},
     "output_type": "execute_result"
    }
   ],
   "source": [
    "y = df['Marks'].to_numpy()\n",
    "y\n",
    "df['Marks'] = 1\n",
    "x = df.to_numpy()\n",
    "x"
   ]
  },
  {
   "cell_type": "code",
   "execution_count": 123,
   "id": "71879c03",
   "metadata": {},
   "outputs": [
    {
     "data": {
      "text/plain": [
       "array([ 4.86616025,  2.12967987,  4.94306385, 14.89694339])"
      ]
     },
     "execution_count": 123,
     "metadata": {},
     "output_type": "execute_result"
    }
   ],
   "source": [
    "coefficients_1 = np.linalg.inv(np.matmul(x.T,x))\n",
    "coefficients_2 = np.matmul(x.T,y)\n",
    "coefficients = np.matmul(coefficients_1,coefficients_2)\n",
    "coefficients"
   ]
  },
  {
   "cell_type": "code",
   "execution_count": 125,
   "id": "0d67f64b",
   "metadata": {},
   "outputs": [
    {
     "data": {
      "text/plain": [
       "np.float64(14.896943389401258)"
      ]
     },
     "execution_count": 125,
     "metadata": {},
     "output_type": "execute_result"
    }
   ],
   "source": [
    "coefficients[0:3]\n",
    "coefficients[3]"
   ]
  },
  {
   "cell_type": "code",
   "execution_count": 126,
   "id": "15c3efe0",
   "metadata": {},
   "outputs": [
    {
     "data": {
      "text/html": [
       "<div>\n",
       "<style scoped>\n",
       "    .dataframe tbody tr th:only-of-type {\n",
       "        vertical-align: middle;\n",
       "    }\n",
       "\n",
       "    .dataframe tbody tr th {\n",
       "        vertical-align: top;\n",
       "    }\n",
       "\n",
       "    .dataframe thead th {\n",
       "        text-align: right;\n",
       "    }\n",
       "</style>\n",
       "<table border=\"1\" class=\"dataframe\">\n",
       "  <thead>\n",
       "    <tr style=\"text-align: right;\">\n",
       "      <th></th>\n",
       "      <th>Hours_Study</th>\n",
       "      <th>Hours_Sleep</th>\n",
       "      <th>Extra_Classes</th>\n",
       "    </tr>\n",
       "  </thead>\n",
       "  <tbody>\n",
       "    <tr>\n",
       "      <th>0</th>\n",
       "      <td>3</td>\n",
       "      <td>6</td>\n",
       "      <td>0</td>\n",
       "    </tr>\n",
       "    <tr>\n",
       "      <th>1</th>\n",
       "      <td>6</td>\n",
       "      <td>7</td>\n",
       "      <td>1</td>\n",
       "    </tr>\n",
       "    <tr>\n",
       "      <th>2</th>\n",
       "      <td>8</td>\n",
       "      <td>5</td>\n",
       "      <td>0</td>\n",
       "    </tr>\n",
       "    <tr>\n",
       "      <th>3</th>\n",
       "      <td>11</td>\n",
       "      <td>7</td>\n",
       "      <td>1</td>\n",
       "    </tr>\n",
       "  </tbody>\n",
       "</table>\n",
       "</div>"
      ],
      "text/plain": [
       "   Hours_Study  Hours_Sleep  Extra_Classes\n",
       "0            3            6              0\n",
       "1            6            7              1\n",
       "2            8            5              0\n",
       "3           11            7              1"
      ]
     },
     "execution_count": 126,
     "metadata": {},
     "output_type": "execute_result"
    }
   ],
   "source": [
    "dft = pd.read_csv(\"regression_test.csv\")\n",
    "dft = dft.drop('Marks', axis=1)\n",
    "dft"
   ]
  },
  {
   "cell_type": "code",
   "execution_count": 127,
   "id": "ddae0c88",
   "metadata": {},
   "outputs": [
    {
     "data": {
      "text/plain": [
       "array([[ 3,  6,  0],\n",
       "       [ 6,  7,  1],\n",
       "       [ 8,  5,  0],\n",
       "       [11,  7,  1]])"
      ]
     },
     "execution_count": 127,
     "metadata": {},
     "output_type": "execute_result"
    }
   ],
   "source": [
    "xt = dft.to_numpy()\n",
    "xt"
   ]
  },
  {
   "cell_type": "code",
   "execution_count": 131,
   "id": "41d208f3",
   "metadata": {},
   "outputs": [
    {
     "data": {
      "text/plain": [
       "array([27.37655996, 49.04778441, 49.57768132, 73.37858564])"
      ]
     },
     "execution_count": 131,
     "metadata": {},
     "output_type": "execute_result"
    }
   ],
   "source": [
    "y = np.matmul(xt,coefficients[0:3])\n",
    "y"
   ]
  },
  {
   "cell_type": "code",
   "execution_count": 132,
   "id": "c40a885f",
   "metadata": {},
   "outputs": [
    {
     "data": {
      "text/plain": [
       "array([42.27350335, 63.9447278 , 64.47462471, 88.27552903])"
      ]
     },
     "execution_count": 132,
     "metadata": {},
     "output_type": "execute_result"
    }
   ],
   "source": [
    "output = y + coefficients[3]\n",
    "output"
   ]
  },
  {
   "cell_type": "code",
   "execution_count": 133,
   "id": "0a58dbf5",
   "metadata": {},
   "outputs": [
    {
     "data": {
      "text/html": [
       "<div>\n",
       "<style scoped>\n",
       "    .dataframe tbody tr th:only-of-type {\n",
       "        vertical-align: middle;\n",
       "    }\n",
       "\n",
       "    .dataframe tbody tr th {\n",
       "        vertical-align: top;\n",
       "    }\n",
       "\n",
       "    .dataframe thead th {\n",
       "        text-align: right;\n",
       "    }\n",
       "</style>\n",
       "<table border=\"1\" class=\"dataframe\">\n",
       "  <thead>\n",
       "    <tr style=\"text-align: right;\">\n",
       "      <th></th>\n",
       "      <th>Hours_Study</th>\n",
       "      <th>Hours_Sleep</th>\n",
       "      <th>Extra_Classes</th>\n",
       "      <th>Marks</th>\n",
       "    </tr>\n",
       "  </thead>\n",
       "  <tbody>\n",
       "    <tr>\n",
       "      <th>0</th>\n",
       "      <td>3</td>\n",
       "      <td>6</td>\n",
       "      <td>0</td>\n",
       "      <td>42.273503</td>\n",
       "    </tr>\n",
       "    <tr>\n",
       "      <th>1</th>\n",
       "      <td>6</td>\n",
       "      <td>7</td>\n",
       "      <td>1</td>\n",
       "      <td>63.944728</td>\n",
       "    </tr>\n",
       "    <tr>\n",
       "      <th>2</th>\n",
       "      <td>8</td>\n",
       "      <td>5</td>\n",
       "      <td>0</td>\n",
       "      <td>64.474625</td>\n",
       "    </tr>\n",
       "    <tr>\n",
       "      <th>3</th>\n",
       "      <td>11</td>\n",
       "      <td>7</td>\n",
       "      <td>1</td>\n",
       "      <td>88.275529</td>\n",
       "    </tr>\n",
       "  </tbody>\n",
       "</table>\n",
       "</div>"
      ],
      "text/plain": [
       "   Hours_Study  Hours_Sleep  Extra_Classes      Marks\n",
       "0            3            6              0  42.273503\n",
       "1            6            7              1  63.944728\n",
       "2            8            5              0  64.474625\n",
       "3           11            7              1  88.275529"
      ]
     },
     "execution_count": 133,
     "metadata": {},
     "output_type": "execute_result"
    }
   ],
   "source": [
    "dft['Marks'] = output\n",
    "dft"
   ]
  },
  {
   "cell_type": "code",
   "execution_count": 139,
   "id": "0435f751",
   "metadata": {},
   "outputs": [],
   "source": [
    "dft.to_csv(\"Regression_tested.csv\",index=False)"
   ]
  },
  {
   "cell_type": "code",
   "execution_count": null,
   "id": "4f15d323",
   "metadata": {},
   "outputs": [],
   "source": []
  }
 ],
 "metadata": {
  "kernelspec": {
   "display_name": "Python 3",
   "language": "python",
   "name": "python3"
  },
  "language_info": {
   "codemirror_mode": {
    "name": "ipython",
    "version": 3
   },
   "file_extension": ".py",
   "mimetype": "text/x-python",
   "name": "python",
   "nbconvert_exporter": "python",
   "pygments_lexer": "ipython3",
   "version": "3.13.7"
  }
 },
 "nbformat": 4,
 "nbformat_minor": 5
}
