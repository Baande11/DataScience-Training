{
 "cells": [
  {
   "cell_type": "markdown",
   "id": "aa054e2a-2089-44cb-9ab7-007d779a2397",
   "metadata": {},
   "source": [
    "# **Training**"
   ]
  },
  {
   "cell_type": "markdown",
   "id": "37df504e-f3ad-4154-ab00-23faa2cfc734",
   "metadata": {},
   "source": [
    "\n",
    "\n",
    "___\n",
    "\n",
    "\n",
    "\n",
    "**Lists**"
   ]
  },
  {
   "cell_type": "code",
   "execution_count": 1,
   "id": "bde102b8-d997-467e-9824-edfa6078f6cf",
   "metadata": {},
   "outputs": [],
   "source": [
    "a = [3,4,56,78,9]"
   ]
  },
  {
   "cell_type": "code",
   "execution_count": 2,
   "id": "a3eac99b-952f-4a96-8443-cab69dce9938",
   "metadata": {},
   "outputs": [
    {
     "data": {
      "text/plain": [
       "[3, 4, 56, 78, 9]"
      ]
     },
     "execution_count": 2,
     "metadata": {},
     "output_type": "execute_result"
    }
   ],
   "source": [
    "a"
   ]
  },
  {
   "cell_type": "code",
   "execution_count": null,
   "id": "8c989bc3-41a6-4344-9681-95588610c6cc",
   "metadata": {},
   "outputs": [],
   "source": [
    "a[0] = 'stx'"
   ]
  },
  {
   "cell_type": "code",
   "execution_count": 4,
   "id": "3a9f6611-86be-4330-bfd2-d151a952e967",
   "metadata": {},
   "outputs": [
    {
     "data": {
      "text/plain": [
       "['stx', 4, 56, 78, 9]"
      ]
     },
     "execution_count": 4,
     "metadata": {},
     "output_type": "execute_result"
    }
   ],
   "source": [
    "a"
   ]
  },
  {
   "cell_type": "code",
   "execution_count": 5,
   "id": "bcc9bf59-6a28-4b61-9e10-1e14a7e648ff",
   "metadata": {},
   "outputs": [],
   "source": [
    "a[-1] = 'last'"
   ]
  },
  {
   "cell_type": "code",
   "execution_count": 7,
   "id": "dbfd3fcd-2285-4541-a5e7-b5b3f627fddc",
   "metadata": {},
   "outputs": [
    {
     "data": {
      "text/plain": [
       "['stx', 4, 56, 78, 'last']"
      ]
     },
     "execution_count": 7,
     "metadata": {},
     "output_type": "execute_result"
    }
   ],
   "source": [
    "a[0:10]"
   ]
  },
  {
   "cell_type": "code",
   "execution_count": 8,
   "id": "9eedabd7-6c73-46db-bf39-72df36ee8dd4",
   "metadata": {},
   "outputs": [
    {
     "data": {
      "text/plain": [
       "['stx', 4]"
      ]
     },
     "execution_count": 8,
     "metadata": {},
     "output_type": "execute_result"
    }
   ],
   "source": [
    "a[0:2]"
   ]
  },
  {
   "cell_type": "code",
   "execution_count": 9,
   "id": "31466506-7a48-4979-a49a-bdffe788c3cb",
   "metadata": {},
   "outputs": [
    {
     "data": {
      "text/plain": [
       "[78, 'last']"
      ]
     },
     "execution_count": 9,
     "metadata": {},
     "output_type": "execute_result"
    }
   ],
   "source": [
    "a[3:]"
   ]
  },
  {
   "cell_type": "markdown",
   "id": "b8c0fafe-8d48-4ac0-b963-3c763fecc1d8",
   "metadata": {},
   "source": [
    "___\n",
    "**Tuples**"
   ]
  },
  {
   "cell_type": "code",
   "execution_count": 12,
   "id": "497204a4-d39b-4d4a-9006-e76d9e8f7b7f",
   "metadata": {},
   "outputs": [
    {
     "data": {
      "text/plain": [
       "(5, 6, 7)"
      ]
     },
     "execution_count": 12,
     "metadata": {},
     "output_type": "execute_result"
    }
   ],
   "source": [
    "b = (5,6,7)\n",
    "b"
   ]
  },
  {
   "cell_type": "markdown",
   "id": "adbe9991-912f-45eb-b82b-6ad240b486ff",
   "metadata": {},
   "source": [
    "___\n",
    "**Dictionary**"
   ]
  },
  {
   "cell_type": "code",
   "execution_count": 14,
   "id": "e7648e72-a441-48cc-b7ce-2f69304ee9c3",
   "metadata": {},
   "outputs": [
    {
     "data": {
      "text/plain": [
       "{1: 'one', 2: 'two', 3: 'three'}"
      ]
     },
     "execution_count": 14,
     "metadata": {},
     "output_type": "execute_result"
    }
   ],
   "source": [
    "c = {1 : 'one',2 : 'two',3 : 'three'}\n",
    "c"
   ]
  },
  {
   "cell_type": "code",
   "execution_count": 16,
   "id": "335796b5-c843-482e-9cf4-0d313f719507",
   "metadata": {},
   "outputs": [
    {
     "name": "stdout",
     "output_type": "stream",
     "text": [
      "one\n",
      "two\n",
      "three\n"
     ]
    }
   ],
   "source": [
    "for i in range(1,4):\n",
    "    print (c[i])"
   ]
  },
  {
   "cell_type": "code",
   "execution_count": 17,
   "id": "e1428dd2-eda7-4496-863d-44e1982e7f13",
   "metadata": {},
   "outputs": [
    {
     "data": {
      "text/plain": [
       "dict_keys([1, 2, 3])"
      ]
     },
     "execution_count": 17,
     "metadata": {},
     "output_type": "execute_result"
    }
   ],
   "source": [
    "c.keys()"
   ]
  },
  {
   "cell_type": "code",
   "execution_count": 23,
   "id": "21598dcd-8224-408d-9683-b2be2734a497",
   "metadata": {},
   "outputs": [
    {
     "data": {
      "text/plain": [
       "dict_values(['ONE', 'two', 'three'])"
      ]
     },
     "execution_count": 23,
     "metadata": {},
     "output_type": "execute_result"
    }
   ],
   "source": [
    "## c.values()[0] = 'ONE' ##\n",
    "c[1] = 'ONE'\n",
    "c.values()"
   ]
  },
  {
   "cell_type": "code",
   "execution_count": 24,
   "id": "e9b5655a-40dc-4061-a920-d2e375d4cadf",
   "metadata": {},
   "outputs": [
    {
     "name": "stdout",
     "output_type": "stream",
     "text": [
      "1 ONE\n",
      "2 two\n",
      "3 three\n"
     ]
    }
   ],
   "source": [
    "for i, r in c.items():\n",
    "    print(i,r)"
   ]
  },
  {
   "cell_type": "markdown",
   "id": "4de57102-1f94-460a-87ac-4025ab5ce2c7",
   "metadata": {},
   "source": [
    "___\n",
    "<br>\n",
    "\n",
    "**write 5 number in list and sum\n",
    "create dictionary with student names and marks\n",
    "print name and marks**"
   ]
  },
  {
   "cell_type": "code",
   "execution_count": 27,
   "id": "3336e46b-b4b9-42c9-8cab-f65e294ab2fc",
   "metadata": {},
   "outputs": [
    {
     "data": {
      "text/plain": [
       "[0, 8, 20, 30, 537]"
      ]
     },
     "execution_count": 27,
     "metadata": {},
     "output_type": "execute_result"
    }
   ],
   "source": [
    "list_a = [0,8,20,30,537]\n",
    "list_a"
   ]
  },
  {
   "cell_type": "code",
   "execution_count": 29,
   "id": "0a34f898-47ad-4e8b-bc52-88a1ccfa5136",
   "metadata": {},
   "outputs": [
    {
     "data": {
      "text/plain": [
       "595"
      ]
     },
     "execution_count": 29,
     "metadata": {},
     "output_type": "execute_result"
    }
   ],
   "source": [
    "x = 0\n",
    "for i in list_a:\n",
    "    x += i\n",
    "x"
   ]
  },
  {
   "cell_type": "code",
   "execution_count": 31,
   "id": "4df3706c-1b12-4086-81e9-64abb65be328",
   "metadata": {},
   "outputs": [
    {
     "data": {
      "text/plain": [
       "{'Jacob': 'A', 'Bev': 'C', 'Dressing': 'F', 'Dennis': 'D'}"
      ]
     },
     "execution_count": 31,
     "metadata": {},
     "output_type": "execute_result"
    }
   ],
   "source": [
    "student_grades = {'Jacob' : 'A', 'Bev' : 'C', 'Dressing' : 'F', 'Dennis' : 'D'}\n",
    "student_grades"
   ]
  },
  {
   "cell_type": "code",
   "execution_count": 40,
   "id": "ee427636-5a19-4816-a3fd-67141038cebe",
   "metadata": {},
   "outputs": [
    {
     "name": "stdout",
     "output_type": "stream",
     "text": [
      "Student: Jacob\n",
      "Mark:    A\n",
      "Student: Bev\n",
      "Mark:    C\n",
      "Student: Dressing\n",
      "Mark:    F\n",
      "Student: Dennis\n",
      "Mark:    D\n"
     ]
    }
   ],
   "source": [
    "for i, r in student_grades.items():\n",
    "    print(\"Student: \" + i + \"\\nMark:    \" + r)"
   ]
  },
  {
   "cell_type": "code",
   "execution_count": 41,
   "id": "1cd0628d-c4a4-4c39-8cc9-ffae61be1b7b",
   "metadata": {},
   "outputs": [
    {
     "data": {
      "text/plain": [
       "595"
      ]
     },
     "execution_count": 41,
     "metadata": {},
     "output_type": "execute_result"
    }
   ],
   "source": [
    "sum(list_a)"
   ]
  },
  {
   "cell_type": "code",
   "execution_count": 42,
   "id": "a3c70b09-707c-4352-b986-38393ef668f2",
   "metadata": {},
   "outputs": [
    {
     "data": {
      "text/plain": [
       "537"
      ]
     },
     "execution_count": 42,
     "metadata": {},
     "output_type": "execute_result"
    }
   ],
   "source": [
    "max(list_a)"
   ]
  },
  {
   "cell_type": "code",
   "execution_count": 46,
   "id": "256e067a-657a-4647-b13a-f5f0dca66e6d",
   "metadata": {},
   "outputs": [
    {
     "data": {
      "text/plain": [
       "[0, 8, 20, 30, 537, 0, 8, 20, 30, 537, 0, 8, 20, 30, 537]"
      ]
     },
     "execution_count": 46,
     "metadata": {},
     "output_type": "execute_result"
    }
   ],
   "source": [
    "list_a*3"
   ]
  },
  {
   "cell_type": "code",
   "execution_count": 73,
   "id": "914acebd-9263-45fd-a1e8-75b7c36318d9",
   "metadata": {},
   "outputs": [
    {
     "data": {
      "text/plain": [
       "[10, 8, 20, 537, 30, 4, 56, 78, 30, 30]"
      ]
     },
     "execution_count": 73,
     "metadata": {},
     "output_type": "execute_result"
    }
   ],
   "source": [
    "list_a.append(30)\n",
    "list_a"
   ]
  },
  {
   "cell_type": "code",
   "execution_count": 50,
   "id": "e40f1e0f-6194-4c75-9905-f80b55695bdd",
   "metadata": {},
   "outputs": [
    {
     "data": {
      "text/plain": [
       "[10, 0, 8, 20, 30, 537, 30, 30]"
      ]
     },
     "execution_count": 50,
     "metadata": {},
     "output_type": "execute_result"
    }
   ],
   "source": [
    "list_a.insert(0,10)\n",
    "list_a"
   ]
  },
  {
   "cell_type": "code",
   "execution_count": 51,
   "id": "2164cdef-7283-4706-b2ca-e40cc4a4a1fa",
   "metadata": {},
   "outputs": [
    {
     "data": {
      "text/plain": [
       "[10, 0, 8, 20, 30, 537, 30, 30, 'stx', 4, 56, 78, 'last']"
      ]
     },
     "execution_count": 51,
     "metadata": {},
     "output_type": "execute_result"
    }
   ],
   "source": [
    "list_a.extend(a)\n",
    "list_a"
   ]
  },
  {
   "cell_type": "code",
   "execution_count": 56,
   "id": "27534ba0-8611-4acd-a727-8ca67bce74f2",
   "metadata": {},
   "outputs": [
    {
     "data": {
      "text/plain": [
       "[10, 8, 20, 30, 537, 30, 30, 'stx', 4, 56, 78, 'last']"
      ]
     },
     "execution_count": 56,
     "metadata": {},
     "output_type": "execute_result"
    }
   ],
   "source": [
    "list_a.remove(0)\n",
    "list_a"
   ]
  },
  {
   "cell_type": "code",
   "execution_count": 60,
   "id": "04fa6533-95d5-4e9c-96ba-3d141a5bc50e",
   "metadata": {},
   "outputs": [
    {
     "data": {
      "text/plain": [
       "[10, 8, 20, 30, 537, 30, 30, 0, 4, 56, 78, 0]"
      ]
     },
     "execution_count": 60,
     "metadata": {},
     "output_type": "execute_result"
    }
   ],
   "source": [
    "for i in range(len(list_a)):\n",
    "    if(type(list_a[i]) != int):\n",
    "        list_a[i] = 0\n",
    "list_a"
   ]
  },
  {
   "cell_type": "code",
   "execution_count": 61,
   "id": "c18998ff-5599-49ba-8144-a0419a99a5f2",
   "metadata": {},
   "outputs": [
    {
     "data": {
      "text/plain": [
       "803"
      ]
     },
     "execution_count": 61,
     "metadata": {},
     "output_type": "execute_result"
    }
   ],
   "source": [
    "sum(list_a)"
   ]
  },
  {
   "cell_type": "code",
   "execution_count": 67,
   "id": "fd38069c-6124-4719-93ec-6b8b992b7cf7",
   "metadata": {},
   "outputs": [
    {
     "data": {
      "text/plain": [
       "[10, 8, 20, 30, 537, 30, 30, 4, 56, 78]"
      ]
     },
     "execution_count": 67,
     "metadata": {},
     "output_type": "execute_result"
    }
   ],
   "source": [
    "for i in range(len(list_a)):\n",
    "    if(i > len(list_a)):\n",
    "        break\n",
    "    if(list_a[i] == 0):\n",
    "        list_a.pop(i)\n",
    "        i -= 1\n",
    "list_a"
   ]
  },
  {
   "cell_type": "code",
   "execution_count": 74,
   "id": "5ee205c9-87ad-4635-8d8e-6414faaa9743",
   "metadata": {},
   "outputs": [
    {
     "data": {
      "text/plain": [
       "[10, 8, 20, 537, 30, 4, 56, 78, 30, 30]"
      ]
     },
     "execution_count": 74,
     "metadata": {},
     "output_type": "execute_result"
    }
   ],
   "source": [
    "##list_a.remove(30)\n",
    "list_a"
   ]
  },
  {
   "cell_type": "code",
   "execution_count": 84,
   "id": "63fe8b2c-d7dd-45c4-a39f-5dff6df82513",
   "metadata": {},
   "outputs": [
    {
     "data": {
      "text/plain": [
       "[10, 8, 20, 537, 4, 56, 78]"
      ]
     },
     "execution_count": 84,
     "metadata": {},
     "output_type": "execute_result"
    }
   ],
   "source": [
    "list(filter(lambda j: j != 30, list_a))"
   ]
  },
  {
   "cell_type": "code",
   "execution_count": 85,
   "id": "09d28b2f-c675-43b1-b7f5-3ae5abf41fe4",
   "metadata": {},
   "outputs": [
    {
     "data": {
      "text/plain": [
       "[10, 8, 20, 537, 4, 56, 78]"
      ]
     },
     "execution_count": 85,
     "metadata": {},
     "output_type": "execute_result"
    }
   ],
   "source": [
    "list(filter((30).__ne__, list_a))"
   ]
  },
  {
   "cell_type": "code",
   "execution_count": 86,
   "id": "de752a8b-d07d-44f9-92cb-689aaf60c014",
   "metadata": {},
   "outputs": [
    {
     "data": {
      "text/plain": [
       "[10, 8, 20, 537, 30, 4, 56, 78, 30, 30]"
      ]
     },
     "execution_count": 86,
     "metadata": {},
     "output_type": "execute_result"
    }
   ],
   "source": [
    "list_a"
   ]
  },
  {
   "cell_type": "code",
   "execution_count": 96,
   "id": "d48dc805-6fb0-4b2e-a765-a102261653ba",
   "metadata": {},
   "outputs": [
    {
     "data": {
      "text/plain": [
       "[0, 1, 2, 3, 4, 5, 6, 7, 8, 9, 10]"
      ]
     },
     "execution_count": 96,
     "metadata": {},
     "output_type": "execute_result"
    }
   ],
   "source": [
    "list_b = list(range(0,11))\n",
    "list_b"
   ]
  },
  {
   "cell_type": "code",
   "execution_count": 97,
   "id": "a7bfb54f-f43d-4ca6-8638-6b22edb7d8ec",
   "metadata": {},
   "outputs": [
    {
     "data": {
      "text/plain": [
       "[0, 4, 5, 6, 7, 8, 9, 10]"
      ]
     },
     "execution_count": 97,
     "metadata": {},
     "output_type": "execute_result"
    }
   ],
   "source": [
    "[list_b.remove(i) for i in [1,2,3]]\n",
    "list_b"
   ]
  },
  {
   "cell_type": "markdown",
   "id": "73d4ff64-81a5-45d8-bff3-f670b449b26f",
   "metadata": {},
   "source": [
    "\n",
    "___\n",
    "\n",
    "# **SQL**"
   ]
  },
  {
   "cell_type": "code",
   "execution_count": 99,
   "id": "a049898c-2d56-456c-b942-f40774ef7f5e",
   "metadata": {},
   "outputs": [],
   "source": [
    "import sqlite3"
   ]
  },
  {
   "cell_type": "code",
   "execution_count": 136,
   "id": "7db5f510-0918-43e9-b12e-b188fb7843a9",
   "metadata": {},
   "outputs": [],
   "source": [
    "conn = sqlite3.connect(\"mysql.db\")"
   ]
  },
  {
   "cell_type": "markdown",
   "id": "8fda03eb-b758-4472-bf62-65455dd607ae",
   "metadata": {},
   "source": [
    "SQL server: <br>\n",
    "multiple databases <br>\n",
    "on which we can create multiple tables <br>\n",
    "each table has columns name and row"
   ]
  },
  {
   "cell_type": "code",
   "execution_count": 137,
   "id": "672fc20a-d59b-44c6-b28b-8252224e9dcd",
   "metadata": {},
   "outputs": [],
   "source": [
    "cur = conn.cursor()"
   ]
  },
  {
   "cell_type": "code",
   "execution_count": 130,
   "id": "177c6a03-6354-47f0-bfe1-f48b2894ed4e",
   "metadata": {},
   "outputs": [
    {
     "ename": "OperationalError",
     "evalue": "table student already exists",
     "output_type": "error",
     "traceback": [
      "\u001b[31m---------------------------------------------------------------------------\u001b[39m",
      "\u001b[31mOperationalError\u001b[39m                          Traceback (most recent call last)",
      "\u001b[36mCell\u001b[39m\u001b[36m \u001b[39m\u001b[32mIn[130]\u001b[39m\u001b[32m, line 1\u001b[39m\n\u001b[32m----> \u001b[39m\u001b[32m1\u001b[39m \u001b[43mcur\u001b[49m\u001b[43m.\u001b[49m\u001b[43mexecute\u001b[49m\u001b[43m(\u001b[49m\u001b[33;43m\"\"\"\u001b[39;49m\n\u001b[32m      2\u001b[39m \u001b[33;43m    CREATE TABLE student(\u001b[39;49m\n\u001b[32m      3\u001b[39m \u001b[33;43m        st_id INTEGER,\u001b[39;49m\n\u001b[32m      4\u001b[39m \u001b[33;43m        st_name TEXT,\u001b[39;49m\n\u001b[32m      5\u001b[39m \u001b[33;43m        st_marks DECIMAL,\u001b[39;49m\n\u001b[32m      6\u001b[39m \u001b[33;43m        st_subjects TEXT\u001b[39;49m\n\u001b[32m      7\u001b[39m \u001b[33;43m        )\u001b[39;49m\n\u001b[32m      8\u001b[39m \u001b[33;43m\"\"\"\u001b[39;49m\u001b[43m)\u001b[49m\n",
      "\u001b[31mOperationalError\u001b[39m: table student already exists"
     ]
    }
   ],
   "source": [
    "cur.execute(\"\"\"\n",
    "    CREATE TABLE student(\n",
    "        st_id INTEGER,\n",
    "        st_name TEXT,\n",
    "        st_marks DECIMAL,\n",
    "        st_subjects TEXT\n",
    "        )\n",
    "\"\"\")"
   ]
  },
  {
   "cell_type": "code",
   "execution_count": 138,
   "id": "4900916a-64d0-4d43-bd9b-d11979068da2",
   "metadata": {},
   "outputs": [
    {
     "data": {
      "text/plain": [
       "[('student',)]"
      ]
     },
     "execution_count": 138,
     "metadata": {},
     "output_type": "execute_result"
    }
   ],
   "source": [
    "cur.execute(\"SELECT name FROM sqlite_master WHERE type='table';\")\n",
    "cur.fetchall()"
   ]
  },
  {
   "cell_type": "code",
   "execution_count": 139,
   "id": "92019a9c-4ce5-4d04-a719-cb4ff80415b6",
   "metadata": {},
   "outputs": [
    {
     "data": {
      "text/plain": [
       "[(1, 'ali', 45, 'chem'), (3, 'ahmed', 50, 'calc')]"
      ]
     },
     "execution_count": 139,
     "metadata": {},
     "output_type": "execute_result"
    }
   ],
   "source": [
    "st_data = [(1,'ali',45,'chem'),(3,'ahmed',50,'calc')]\n",
    "st_data"
   ]
  },
  {
   "cell_type": "code",
   "execution_count": 141,
   "id": "776edc78-9b12-42f4-938d-872915eee764",
   "metadata": {},
   "outputs": [
    {
     "data": {
      "text/plain": [
       "<sqlite3.Cursor at 0x1ca9a162540>"
      ]
     },
     "execution_count": 141,
     "metadata": {},
     "output_type": "execute_result"
    }
   ],
   "source": [
    "cur.executemany(\"INSERT INTO student (st_id,st_name,st_marks,st_subjects) VALUES (?,?,?,?)\", st_data)\n",
    "cur.execute(\"SELECT * FROM student\").fetchall()"
   ]
  },
  {
   "cell_type": "code",
   "execution_count": 146,
   "id": "bc423010-20cf-41ea-b962-1e5d0465af50",
   "metadata": {},
   "outputs": [
    {
     "data": {
      "text/plain": [
       "(2, 47.5)"
      ]
     },
     "execution_count": 146,
     "metadata": {},
     "output_type": "execute_result"
    }
   ],
   "source": [
    "cur.execute(\"SELECT COUNT(*), AVG(st_marks) FROM student\").fetchone()"
   ]
  },
  {
   "cell_type": "code",
   "execution_count": 149,
   "id": "6a6d8251-bea2-405c-83c4-51c3cef4c7dd",
   "metadata": {},
   "outputs": [],
   "source": [
    "conn.commit()"
   ]
  },
  {
   "cell_type": "code",
   "execution_count": 150,
   "id": "81e8c987-9c78-4f0c-9ff6-b6968563e8a9",
   "metadata": {},
   "outputs": [],
   "source": [
    "conn.close()"
   ]
  },
  {
   "cell_type": "code",
   "execution_count": 151,
   "id": "3257d2f2-7889-4c8a-a95b-306ea2126226",
   "metadata": {},
   "outputs": [
    {
     "ename": "ProgrammingError",
     "evalue": "Cannot operate on a closed database.",
     "output_type": "error",
     "traceback": [
      "\u001b[31m---------------------------------------------------------------------------\u001b[39m",
      "\u001b[31mProgrammingError\u001b[39m                          Traceback (most recent call last)",
      "\u001b[36mCell\u001b[39m\u001b[36m \u001b[39m\u001b[32mIn[151]\u001b[39m\u001b[32m, line 1\u001b[39m\n\u001b[32m----> \u001b[39m\u001b[32m1\u001b[39m \u001b[43mcur\u001b[49m\u001b[43m.\u001b[49m\u001b[43mfetchall\u001b[49m\u001b[43m(\u001b[49m\u001b[43m)\u001b[49m\n",
      "\u001b[31mProgrammingError\u001b[39m: Cannot operate on a closed database."
     ]
    }
   ],
   "source": [
    "cur.fetchall()"
   ]
  },
  {
   "cell_type": "markdown",
   "id": "63be73d8-3033-4cce-8b34-3b42f3e3ce47",
   "metadata": {},
   "source": [
    "# **Assignment**"
   ]
  },
  {
   "cell_type": "markdown",
   "id": "e109e1b7-8de1-465a-a863-88853416cf5c",
   "metadata": {},
   "source": [
    "Create the following tables:\n",
    "Departments (dept_id, dept_name, hod_name)<br>\n",
    "Students (student_id, name, class, dept_id)<br>\n",
    "Subjects (subject_id, subject_name, dept_id)<br>\n",
    "Marks (mark_id, student_id, subject_id, marks)<br>\n",
    "Insert:\n",
    "At least 2 departments, 5 students, 4 subjects, and marks for each student in all subjects"
   ]
  },
  {
   "cell_type": "code",
   "execution_count": 18,
   "id": "4e745632-d959-4276-a3e2-bf731bbc007a",
   "metadata": {},
   "outputs": [],
   "source": [
    "import sqlite3\n",
    "conn = sqlite3.connect(\"university.db\")\n",
    "cur = conn.cursor()"
   ]
  },
  {
   "cell_type": "code",
   "execution_count": 19,
   "id": "94e2d78f-f0b1-4d55-bb0c-b41387b055ef",
   "metadata": {},
   "outputs": [
    {
     "ename": "OperationalError",
     "evalue": "table departments already exists",
     "output_type": "error",
     "traceback": [
      "\u001b[31m---------------------------------------------------------------------------\u001b[39m",
      "\u001b[31mOperationalError\u001b[39m                          Traceback (most recent call last)",
      "\u001b[36mCell\u001b[39m\u001b[36m \u001b[39m\u001b[32mIn[19]\u001b[39m\u001b[32m, line 1\u001b[39m\n\u001b[32m----> \u001b[39m\u001b[32m1\u001b[39m \u001b[43mcur\u001b[49m\u001b[43m.\u001b[49m\u001b[43mexecute\u001b[49m\u001b[43m(\u001b[49m\u001b[33;43m\"\"\"\u001b[39;49m\n\u001b[32m      2\u001b[39m \u001b[33;43m    CREATE TABLE departments(\u001b[39;49m\n\u001b[32m      3\u001b[39m \u001b[33;43m        dept_id INTEGER PRIMARY KEY ,\u001b[39;49m\n\u001b[32m      4\u001b[39m \u001b[33;43m        dept_name TEXT,\u001b[39;49m\n\u001b[32m      5\u001b[39m \u001b[33;43m        hod_name TEXT\u001b[39;49m\n\u001b[32m      6\u001b[39m \u001b[33;43m        )\u001b[39;49m\n\u001b[32m      7\u001b[39m \u001b[33;43m\"\"\"\u001b[39;49m\u001b[43m)\u001b[49m\n\u001b[32m      8\u001b[39m cur.execute(\u001b[33m\"\"\"\u001b[39m\n\u001b[32m      9\u001b[39m \u001b[33m    CREATE TABLE students(\u001b[39m\n\u001b[32m     10\u001b[39m \u001b[33m        student_id INTEGER PRIMARY KEY AUTOINCREMENT,\u001b[39m\n\u001b[32m   (...)\u001b[39m\u001b[32m     15\u001b[39m \u001b[33m        )\u001b[39m\n\u001b[32m     16\u001b[39m \u001b[33m\"\"\"\u001b[39m)\n\u001b[32m     17\u001b[39m cur.execute(\u001b[33m\"\"\"\u001b[39m\n\u001b[32m     18\u001b[39m \u001b[33m    CREATE TABLE subjects(\u001b[39m\n\u001b[32m     19\u001b[39m \u001b[33m        subject_id INTEGER PRIMARY KEY AUTOINCREMENT,\u001b[39m\n\u001b[32m   (...)\u001b[39m\u001b[32m     23\u001b[39m \u001b[33m        )\u001b[39m\n\u001b[32m     24\u001b[39m \u001b[33m\"\"\"\u001b[39m)\n",
      "\u001b[31mOperationalError\u001b[39m: table departments already exists"
     ]
    }
   ],
   "source": [
    "cur.execute(\"\"\"\n",
    "    CREATE TABLE departments(\n",
    "        dept_id INTEGER PRIMARY KEY ,\n",
    "        dept_name TEXT,\n",
    "        hod_name TEXT\n",
    "        )\n",
    "\"\"\")\n",
    "cur.execute(\"\"\"\n",
    "    CREATE TABLE students(\n",
    "        student_id INTEGER PRIMARY KEY AUTOINCREMENT,\n",
    "        name TEXT,\n",
    "        class TEXT,\n",
    "        dept_id INTEGER,\n",
    "        FOREIGN KEY (dept_id) REFERENCES departments(dept_id)\n",
    "        )\n",
    "\"\"\")\n",
    "cur.execute(\"\"\"\n",
    "    CREATE TABLE subjects(\n",
    "        subject_id INTEGER PRIMARY KEY AUTOINCREMENT,\n",
    "        subject_name TEXT,\n",
    "        dept_id INTEGER,\n",
    "        FOREIGN KEY (dept_id) REFERENCES departments(dept_id)\n",
    "        )\n",
    "\"\"\")\n",
    "cur.execute(\"\"\"\n",
    "    CREATE TABLE marks(\n",
    "        mark_id INTEGER PRIMARY KEY AUTOINCREMENT,\n",
    "        student_id INTEGER,\n",
    "        subject_id INTEGER,\n",
    "        mark DECIMAL,\n",
    "        FOREIGN KEY (student_id) REFERENCES students(student_id),\n",
    "        FOREIGN KEY (subject_id) REFERENCES subjects(subject_id)\n",
    "        )\n",
    "\"\"\")"
   ]
  },
  {
   "cell_type": "code",
   "execution_count": 20,
   "id": "f25f1eab-560a-4719-99d8-dfaa41fa273d",
   "metadata": {},
   "outputs": [
    {
     "ename": "IntegrityError",
     "evalue": "UNIQUE constraint failed: departments.dept_id",
     "output_type": "error",
     "traceback": [
      "\u001b[31m---------------------------------------------------------------------------\u001b[39m",
      "\u001b[31mIntegrityError\u001b[39m                            Traceback (most recent call last)",
      "\u001b[36mCell\u001b[39m\u001b[36m \u001b[39m\u001b[32mIn[20]\u001b[39m\u001b[32m, line 4\u001b[39m\n\u001b[32m      2\u001b[39m english = (\u001b[32m10111\u001b[39m, \u001b[33m'\u001b[39m\u001b[33mEnglish\u001b[39m\u001b[33m'\u001b[39m, \u001b[33m'\u001b[39m\u001b[33mPratchet\u001b[39m\u001b[33m'\u001b[39m)\n\u001b[32m      3\u001b[39m departments = [math,english]\n\u001b[32m----> \u001b[39m\u001b[32m4\u001b[39m \u001b[43mcur\u001b[49m\u001b[43m.\u001b[49m\u001b[43mexecutemany\u001b[49m\u001b[43m(\u001b[49m\u001b[33;43m\"\u001b[39;49m\u001b[33;43mINSERT INTO departments(dept_id, dept_name, hod_name) VALUES (?,?,?)\u001b[39;49m\u001b[33;43m\"\u001b[39;49m\u001b[43m,\u001b[49m\u001b[43m \u001b[49m\u001b[43mdepartments\u001b[49m\u001b[43m)\u001b[49m\n\u001b[32m      5\u001b[39m cur.execute(\u001b[33m\"\u001b[39m\u001b[33mSELECT * FROM departments\u001b[39m\u001b[33m\"\u001b[39m).fetchall()\n",
      "\u001b[31mIntegrityError\u001b[39m: UNIQUE constraint failed: departments.dept_id"
     ]
    }
   ],
   "source": [
    "math = (10001, 'Math', 'Anderson')\n",
    "english = (10111, 'English', 'Pratchet')\n",
    "departments = [math,english]\n",
    "cur.executemany(\"INSERT INTO departments(dept_id, dept_name, hod_name) VALUES (?,?,?)\", departments)\n",
    "cur.execute(\"SELECT * FROM departments\").fetchall()"
   ]
  },
  {
   "cell_type": "code",
   "execution_count": 21,
   "id": "20313a2d-3558-483f-ae3f-c711eab3f5ed",
   "metadata": {},
   "outputs": [
    {
     "data": {
      "text/plain": [
       "[(1, 'Margaret', '3', 10111),\n",
       " (2, 'Robert', '2', 10001),\n",
       " (3, 'Jenna', '1', 10001),\n",
       " (4, 'Timothy', '4', 10111),\n",
       " (5, 'Thomas', '1', 10111),\n",
       " (6, 'Bryce', '4', 10001),\n",
       " (7, 'Margaret', '3', 10111),\n",
       " (8, 'Robert', '2', 10001),\n",
       " (9, 'Jenna', '1', 10001),\n",
       " (10, 'Timothy', '4', 10111),\n",
       " (11, 'Thomas', '1', 10111)]"
      ]
     },
     "execution_count": 21,
     "metadata": {},
     "output_type": "execute_result"
    }
   ],
   "source": [
    "students = [( \"Margaret\", 3, 10111),\n",
    "           ( \"Robert\", 2, 10001),\n",
    "           ( \"Jenna\", 1, 10001),\n",
    "           ( \"Timothy\", 4, 10111),\n",
    "           ( \"Thomas\", 1, 10111)]\n",
    "cur.executemany(\"INSERT INTO students(name, class, dept_id) VALUES (?,?,?)\", students)\n",
    "cur.execute(\"SELECT * FROM students\").fetchall()"
   ]
  },
  {
   "cell_type": "code",
   "execution_count": 22,
   "id": "18663119-c8f5-45ca-bb53-af85c245c93b",
   "metadata": {},
   "outputs": [
    {
     "data": {
      "text/plain": [
       "[(1, 'Advanced Platonics', 10111),\n",
       " (2, 'Linear Algebra', 10001),\n",
       " (3, 'Calc II', 10001),\n",
       " (4, 'Philosophy 101', 10111),\n",
       " (5, 'Thermodynamics', 10001),\n",
       " (6, 'Calc II', 10001),\n",
       " (7, 'Advanced Platonics', 10111),\n",
       " (8, 'Linear Algebra', 10001),\n",
       " (9, 'Calc II', 10001),\n",
       " (10, 'Philosophy 101', 10111),\n",
       " (11, 'Thermodynamics', 10001)]"
      ]
     },
     "execution_count": 22,
     "metadata": {},
     "output_type": "execute_result"
    }
   ],
   "source": [
    "subjects = [( \"Advanced Platonics\", 10111),\n",
    "           ( \"Linear Algebra\", 10001),\n",
    "           ( \"Calc II\", 10001),\n",
    "           ( \"Philosophy 101\", 10111),\n",
    "           ( \"Thermodynamics\", 10001)]\n",
    "cur.executemany(\"INSERT INTO subjects( subject_name, dept_id) VALUES (?,?)\", subjects)\n",
    "cur.execute(\"SELECT * FROM subjects\").fetchall()"
   ]
  },
  {
   "cell_type": "code",
   "execution_count": 23,
   "id": "593b550b-246d-4791-9ab6-6313f5c6ae21",
   "metadata": {},
   "outputs": [
    {
     "data": {
      "text/plain": [
       "[(1, 1, 1, 100),\n",
       " (2, 1, 2, 99),\n",
       " (3, 1, 3, 98),\n",
       " (4, 1, 4, 97),\n",
       " (5, 1, 5, 96),\n",
       " (6, 2, 1, 99.1),\n",
       " (7, 2, 2, 98.1),\n",
       " (8, 2, 3, 97.1),\n",
       " (9, 2, 4, 96.1),\n",
       " (10, 2, 5, 95.1),\n",
       " (11, 3, 1, 96.2),\n",
       " (12, 3, 2, 95.2),\n",
       " (13, 3, 3, 94.2),\n",
       " (14, 3, 4, 93.2),\n",
       " (15, 3, 5, 92.2),\n",
       " (16, 4, 1, 91.3),\n",
       " (17, 4, 2, 90.3),\n",
       " (18, 4, 3, 89.3),\n",
       " (19, 4, 4, 88.3),\n",
       " (20, 4, 5, 87.3),\n",
       " (21, 5, 1, 84.4),\n",
       " (22, 5, 2, 83.4),\n",
       " (23, 5, 3, 82.4),\n",
       " (24, 5, 4, 81.4),\n",
       " (25, 5, 5, 80.4),\n",
       " (26, 6, 4, 75),\n",
       " (27, 1, 1, 100),\n",
       " (28, 1, 2, 99),\n",
       " (29, 1, 3, 98),\n",
       " (30, 1, 4, 97),\n",
       " (31, 1, 5, 96),\n",
       " (32, 2, 1, 99.1),\n",
       " (33, 2, 2, 98.1),\n",
       " (34, 2, 3, 97.1),\n",
       " (35, 2, 4, 96.1),\n",
       " (36, 2, 5, 95.1),\n",
       " (37, 3, 1, 96.2),\n",
       " (38, 3, 2, 95.2),\n",
       " (39, 3, 3, 94.2),\n",
       " (40, 3, 4, 93.2),\n",
       " (41, 3, 5, 92.2),\n",
       " (42, 4, 1, 91.3),\n",
       " (43, 4, 2, 90.3),\n",
       " (44, 4, 3, 89.3),\n",
       " (45, 4, 4, 88.3),\n",
       " (46, 4, 5, 87.3),\n",
       " (47, 5, 1, 84.4),\n",
       " (48, 5, 2, 83.4),\n",
       " (49, 5, 3, 82.4),\n",
       " (50, 5, 4, 81.4),\n",
       " (51, 5, 5, 80.4)]"
      ]
     },
     "execution_count": 23,
     "metadata": {},
     "output_type": "execute_result"
    }
   ],
   "source": [
    "marks = []\n",
    "for i in range(len(students)):\n",
    "    for r in range(len(subjects)):\n",
    "        marks.append(( i+1, r+1, 100-r+i/10-1*i**2)) \n",
    "cur.executemany(\"INSERT INTO marks(student_id, subject_id, mark) VALUES (?,?,?)\", marks)\n",
    "cur.execute(\"SELECT * FROM marks\").fetchall()"
   ]
  },
  {
   "cell_type": "markdown",
   "id": "4669e123-00b4-4c9c-ae41-7b093f21a53d",
   "metadata": {},
   "source": [
    "def add_student(name, class, dept_id)<br>\n",
    "def add_subject(subject_name, dept_id)<br>\n",
    "def add_marks(student_id, subject_id, marks)<br>\n",
    "def show_students() → Display students with department name (JOIN)<br>\n",
    "def show_subjects() → Display all subjects with their department<br>\n",
    "def show_marks() → Display each student’s marks with subject names (JOIN)<br>\n",
    "def student_report(student_id) → Show subject-wise marks, total, average, grade, pass/fail<br>\n",
    "def toppers() → Show topper in each subject + overall topper<br>\n",
    "def department_summary() → Show average marks department-wise (JOIN + GROUP BY)<br>\n",
    "def unique_subjects() → Return unique subjects as a set"
   ]
  },
  {
   "cell_type": "code",
   "execution_count": 24,
   "id": "69d662c0-054f-406e-84a8-2a58ed339c5d",
   "metadata": {},
   "outputs": [],
   "source": [
    "def add_student(name, class_level, dept_id):\n",
    "    cur.execute(\"INSERT INTO students(name, class, dept_id) VALUES (?,?,?)\", (name,class_level,dept_id))\n",
    "    conn.commit()\n",
    "def add_subject(subject_name, dept_id):\n",
    "    cur.execute(\"INSERT INTO subjects(subject_name, dept_id) VALUES (?,?)\", (subject_name,dept_id))\n",
    "    conn.commit()\n",
    "def add_marks(student_id, subject_id, mark):\n",
    "    cur.execute(\"INSERT INTO marks(student_id, subject_id, mark) VALUES (?,?,?)\", (student_id, subject_id, mark))\n",
    "    conn.commit()\n",
    "def show_students():# Display students with department name (JOIN)\n",
    "    return cur.execute(\"\"\"SELECT s.student_id, s.name, s.class, d.dept_name FROM students s \n",
    "                       LEFT JOIN departments d on s.dept_id = d.dept_id\"\"\").fetchall()\n",
    "def show_subjects(): # Display all subjects with their department\n",
    "    return cur.execute(\"SELECT * FROM subjects\").fetchall()\n",
    "def show_marks(): # Display each student’s marks with subject names (JOIN)\n",
    "    return cur.execute(\"\"\"SELECT m.student_id, s.subject_name, m.mark FROM marks m \n",
    "                       LEFT JOIN subjects s on m.subject_id = s.subject_id\"\"\").fetchall()\n",
    "def student_report(student_id): # Show subject-wise marks, total, average, grade, pass/fail\n",
    "    report = cur.execute(\"\"\"SELECT s.subject_name, SUM(m.mark) as total, AVG(m.mark) as average FROM marks m \n",
    "                         LEFT JOIN subjects s on m.subject_id = s.subject_id WHERE m.student_id = {}  \n",
    "                         GROUP BY m.subject_id\"\"\".format(student_id)).fetchall()\n",
    "    output = []\n",
    "    for i in report:\n",
    "        i_row = [i[0],i[1],i[2]]\n",
    "        if(i[2] > 90):\n",
    "            i_row.append('A')\n",
    "            i_row.append('pass')\n",
    "        elif(i[2] > 80):\n",
    "            i_row.append('B')\n",
    "            i_row.append('pass')\n",
    "        elif(i[2] > 70):\n",
    "            i_row.append('C')\n",
    "            i_row.append('pass')\n",
    "        elif(i[2] > 60):\n",
    "            i_row.append('D')\n",
    "            i_row.append('pass')\n",
    "        else:\n",
    "            i_row.append('F')\n",
    "            i_row.append('fail')\n",
    "        output.append(i_row)\n",
    "    return output\n",
    "def toppers(): # Show topper in each subject + overall topper\n",
    "    output = cur.execute(\"\"\"SELECT sub.subject_name, st.name, MAX(m.mark) FROM marks m \n",
    "                         LEFT JOIN subjects sub on m.subject_id = sub.subject_id \n",
    "                         INNER JOIN students st on m.student_id = st.student_id GROUP BY sub.subject_name\"\"\").fetchall()\n",
    "    output.append(cur.execute(\"\"\"SELECT st.name, AVG(m.mark) as ave FROM marks m \n",
    "                              INNER JOIN students st on m.student_id = st.student_id \n",
    "                              GROUP BY st.name ORDER BY ave DESC\"\"\").fetchall()[0])\n",
    "    return output\n",
    "def department_summary(): # Show average marks department-wise (JOIN + GROUP BY)\n",
    "    return cur.execute(\"\"\"SELECT d.dept_name, AVG(m.mark) FROM marks m \n",
    "                       LEFT JOIN subjects sub on m.subject_id = sub.subject_id \n",
    "                       INNER JOIN departments d on sub.dept_id = d.dept_id GROUP BY d.dept_name\"\"\").fetchall()\n",
    "    \n",
    "def unique_subjects(): # Return unique subjects as a set\n",
    "    return cur.execute(\"SELECT DISTINCT subject_name, dept_id  FROM subjects\").fetchall()"
   ]
  },
  {
   "cell_type": "code",
   "execution_count": 25,
   "id": "e1781779-0ef4-4826-ab36-5c8d80a841b0",
   "metadata": {},
   "outputs": [
    {
     "data": {
      "text/plain": [
       "[['Advanced Platonics', 200, 100.0, 'A', 'pass'],\n",
       " ['Linear Algebra', 198, 99.0, 'A', 'pass'],\n",
       " ['Calc II', 196, 98.0, 'A', 'pass'],\n",
       " ['Philosophy 101', 194, 97.0, 'A', 'pass'],\n",
       " ['Thermodynamics', 192, 96.0, 'A', 'pass']]"
      ]
     },
     "execution_count": 25,
     "metadata": {},
     "output_type": "execute_result"
    }
   ],
   "source": [
    "student_report(1)"
   ]
  },
  {
   "cell_type": "code",
   "execution_count": 26,
   "id": "24b646be-6bdd-4415-87c5-161d91cdf077",
   "metadata": {},
   "outputs": [
    {
     "data": {
      "text/plain": [
       "[('Advanced Platonics', 'Margaret', 100),\n",
       " ('Calc II', 'Margaret', 98),\n",
       " ('Linear Algebra', 'Margaret', 99),\n",
       " ('Philosophy 101', 'Margaret', 97),\n",
       " ('Thermodynamics', 'Margaret', 96),\n",
       " ('Margaret', 98.0)]"
      ]
     },
     "execution_count": 26,
     "metadata": {},
     "output_type": "execute_result"
    }
   ],
   "source": [
    "toppers()"
   ]
  },
  {
   "cell_type": "code",
   "execution_count": 27,
   "id": "141cb1e0-8600-4bc0-95f8-01225705cbff",
   "metadata": {},
   "outputs": [
    {
     "data": {
      "text/plain": [
       "[('English', 91.85714285714286), ('Math', 91.86666666666666)]"
      ]
     },
     "execution_count": 27,
     "metadata": {},
     "output_type": "execute_result"
    }
   ],
   "source": [
    "department_summary()"
   ]
  },
  {
   "cell_type": "code",
   "execution_count": 28,
   "id": "a379fc31-bd61-4bdd-8a92-fc4ee38a8bbf",
   "metadata": {},
   "outputs": [
    {
     "data": {
      "text/plain": [
       "[('Advanced Platonics', 10111),\n",
       " ('Linear Algebra', 10001),\n",
       " ('Calc II', 10001),\n",
       " ('Philosophy 101', 10111),\n",
       " ('Thermodynamics', 10001)]"
      ]
     },
     "execution_count": 28,
     "metadata": {},
     "output_type": "execute_result"
    }
   ],
   "source": [
    "unique_subjects()"
   ]
  },
  {
   "cell_type": "code",
   "execution_count": 29,
   "id": "3057a0a3-ab45-4bcf-8809-27120dbf91f4",
   "metadata": {},
   "outputs": [
    {
     "data": {
      "text/plain": [
       "[(1, 'Margaret', '3', 'English'),\n",
       " (2, 'Robert', '2', 'Math'),\n",
       " (3, 'Jenna', '1', 'Math'),\n",
       " (4, 'Timothy', '4', 'English'),\n",
       " (5, 'Thomas', '1', 'English'),\n",
       " (6, 'Bryce', '4', 'Math'),\n",
       " (7, 'Margaret', '3', 'English'),\n",
       " (8, 'Robert', '2', 'Math'),\n",
       " (9, 'Jenna', '1', 'Math'),\n",
       " (10, 'Timothy', '4', 'English'),\n",
       " (11, 'Thomas', '1', 'English')]"
      ]
     },
     "execution_count": 29,
     "metadata": {},
     "output_type": "execute_result"
    }
   ],
   "source": [
    "show_students()"
   ]
  },
  {
   "cell_type": "code",
   "execution_count": 30,
   "id": "434b1168-0567-48d2-8d21-827894911621",
   "metadata": {},
   "outputs": [
    {
     "data": {
      "text/plain": [
       "[(1, 'Margaret', '3', 'English'),\n",
       " (2, 'Robert', '2', 'Math'),\n",
       " (3, 'Jenna', '1', 'Math'),\n",
       " (4, 'Timothy', '4', 'English'),\n",
       " (5, 'Thomas', '1', 'English'),\n",
       " (6, 'Bryce', '4', 'Math'),\n",
       " (7, 'Margaret', '3', 'English'),\n",
       " (8, 'Robert', '2', 'Math'),\n",
       " (9, 'Jenna', '1', 'Math'),\n",
       " (10, 'Timothy', '4', 'English'),\n",
       " (11, 'Thomas', '1', 'English'),\n",
       " (12, 'Bryce', '4', 'Math')]"
      ]
     },
     "execution_count": 30,
     "metadata": {},
     "output_type": "execute_result"
    }
   ],
   "source": [
    "add_student(\"Bryce\", 4, 10001)\n",
    "show_students()"
   ]
  },
  {
   "cell_type": "code",
   "execution_count": 31,
   "id": "b3c182d7-5d1d-4278-b37b-054a9f42549b",
   "metadata": {},
   "outputs": [
    {
     "data": {
      "text/plain": [
       "[(1, 'Advanced Platonics', 10111),\n",
       " (2, 'Linear Algebra', 10001),\n",
       " (3, 'Calc II', 10001),\n",
       " (4, 'Philosophy 101', 10111),\n",
       " (5, 'Thermodynamics', 10001),\n",
       " (6, 'Calc II', 10001),\n",
       " (7, 'Advanced Platonics', 10111),\n",
       " (8, 'Linear Algebra', 10001),\n",
       " (9, 'Calc II', 10001),\n",
       " (10, 'Philosophy 101', 10111),\n",
       " (11, 'Thermodynamics', 10001),\n",
       " (12, 'Calc II', 10001)]"
      ]
     },
     "execution_count": 31,
     "metadata": {},
     "output_type": "execute_result"
    }
   ],
   "source": [
    "add_subject(\"Calc II\", 10001)\n",
    "show_subjects()"
   ]
  },
  {
   "cell_type": "code",
   "execution_count": 32,
   "id": "3785b256-b359-4471-83d0-4574408eacdc",
   "metadata": {},
   "outputs": [
    {
     "data": {
      "text/plain": [
       "[['Philosophy 101', 150, 75.0, 'C', 'pass']]"
      ]
     },
     "execution_count": 32,
     "metadata": {},
     "output_type": "execute_result"
    }
   ],
   "source": [
    "add_marks(6, 4, 75.0)\n",
    "student_report(6)"
   ]
  },
  {
   "cell_type": "code",
   "execution_count": 33,
   "id": "36afe02a-baa8-4a3d-9928-561a0bc111ea",
   "metadata": {},
   "outputs": [
    {
     "data": {
      "text/plain": [
       "[(1, 'Advanced Platonics', 100),\n",
       " (1, 'Linear Algebra', 99),\n",
       " (1, 'Calc II', 98),\n",
       " (1, 'Philosophy 101', 97),\n",
       " (1, 'Thermodynamics', 96),\n",
       " (2, 'Advanced Platonics', 99.1),\n",
       " (2, 'Linear Algebra', 98.1),\n",
       " (2, 'Calc II', 97.1),\n",
       " (2, 'Philosophy 101', 96.1),\n",
       " (2, 'Thermodynamics', 95.1),\n",
       " (3, 'Advanced Platonics', 96.2),\n",
       " (3, 'Linear Algebra', 95.2),\n",
       " (3, 'Calc II', 94.2),\n",
       " (3, 'Philosophy 101', 93.2),\n",
       " (3, 'Thermodynamics', 92.2),\n",
       " (4, 'Advanced Platonics', 91.3),\n",
       " (4, 'Linear Algebra', 90.3),\n",
       " (4, 'Calc II', 89.3),\n",
       " (4, 'Philosophy 101', 88.3),\n",
       " (4, 'Thermodynamics', 87.3),\n",
       " (5, 'Advanced Platonics', 84.4),\n",
       " (5, 'Linear Algebra', 83.4),\n",
       " (5, 'Calc II', 82.4),\n",
       " (5, 'Philosophy 101', 81.4),\n",
       " (5, 'Thermodynamics', 80.4),\n",
       " (6, 'Philosophy 101', 75),\n",
       " (1, 'Advanced Platonics', 100),\n",
       " (1, 'Linear Algebra', 99),\n",
       " (1, 'Calc II', 98),\n",
       " (1, 'Philosophy 101', 97),\n",
       " (1, 'Thermodynamics', 96),\n",
       " (2, 'Advanced Platonics', 99.1),\n",
       " (2, 'Linear Algebra', 98.1),\n",
       " (2, 'Calc II', 97.1),\n",
       " (2, 'Philosophy 101', 96.1),\n",
       " (2, 'Thermodynamics', 95.1),\n",
       " (3, 'Advanced Platonics', 96.2),\n",
       " (3, 'Linear Algebra', 95.2),\n",
       " (3, 'Calc II', 94.2),\n",
       " (3, 'Philosophy 101', 93.2),\n",
       " (3, 'Thermodynamics', 92.2),\n",
       " (4, 'Advanced Platonics', 91.3),\n",
       " (4, 'Linear Algebra', 90.3),\n",
       " (4, 'Calc II', 89.3),\n",
       " (4, 'Philosophy 101', 88.3),\n",
       " (4, 'Thermodynamics', 87.3),\n",
       " (5, 'Advanced Platonics', 84.4),\n",
       " (5, 'Linear Algebra', 83.4),\n",
       " (5, 'Calc II', 82.4),\n",
       " (5, 'Philosophy 101', 81.4),\n",
       " (5, 'Thermodynamics', 80.4),\n",
       " (6, 'Philosophy 101', 75)]"
      ]
     },
     "execution_count": 33,
     "metadata": {},
     "output_type": "execute_result"
    }
   ],
   "source": [
    "show_marks()"
   ]
  },
  {
   "cell_type": "code",
   "execution_count": 34,
   "id": "2953a074",
   "metadata": {},
   "outputs": [],
   "source": [
    "conn.commit()\n",
    "conn.close()"
   ]
  }
 ],
 "metadata": {
  "kernelspec": {
   "display_name": "Python 3",
   "language": "python",
   "name": "python3"
  },
  "language_info": {
   "codemirror_mode": {
    "name": "ipython",
    "version": 3
   },
   "file_extension": ".py",
   "mimetype": "text/x-python",
   "name": "python",
   "nbconvert_exporter": "python",
   "pygments_lexer": "ipython3",
   "version": "3.13.7"
  }
 },
 "nbformat": 4,
 "nbformat_minor": 5
}
